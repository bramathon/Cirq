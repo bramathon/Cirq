{
  "cells": [
    {
      "cell_type": "markdown",
      "metadata": {
        "id": "mGlitf0ASiXl"
      },
      "source": [
        "# Quick Start: Quantum Gate decomposition\n",
        "\n",
        "One can open this tutorial in Google Colab (is recommended)\n",
        "\n",
        "[![Open In Colab](https://colab.research.google.com/assets/colab-badge.svg)](https://colab.research.google.com/github/LuchnikovI/QGOpt/blob/master/docs/source/quick_start.ipynb)\n",
        "\n",
        "In the given short tutorial, we show the basic steps of working with QGOpt. It is known that an arbitrary two-qubit unitary gate can be decomposed into a sequence of CNOT gates and one qubit gates as it is shown on the tensor diagram below (if the diagram is not displayed here, please open the notebook in Google Colab).![renorm_layer.png](https://github.com/LuchnikovI/QGOpt/blob/master/docs/source/images/gate_decomposition.png?raw=1)\n",
        "\n",
        "Local unitary gates are elements of the complex Stiefel manifold; thus, the decomposition can be found by minimizing Frobenius distance between a given two qubits unitary gate and its decomposition. In the beginning, let us import some libraries."
      ]
    },
    {
      "cell_type": "markdown",
      "metadata": {
        "id": "fBMNYKp6DVUh"
      },
      "source": [
        "First, one needs to import all necessary libraries."
      ]
    },
    {
      "cell_type": "code",
      "execution_count": 1,
      "metadata": {
        "id": "AJG7TqNrSfeK",
        "outputId": "2bdd4ee1-0c53-4a33-ec40-13ea516b2be1",
        "colab": {
          "base_uri": "https://localhost:8080/",
          "height": 685
        }
      },
      "outputs": [
        {
          "output_type": "stream",
          "name": "stdout",
          "text": [
            "Collecting git+https://github.com/LuchnikovI/QGOpt\n",
            "  Cloning https://github.com/LuchnikovI/QGOpt to /tmp/pip-req-build-rx8epqfz\n",
            "  Running command git clone --filter=blob:none --quiet https://github.com/LuchnikovI/QGOpt /tmp/pip-req-build-rx8epqfz\n",
            "  Resolved https://github.com/LuchnikovI/QGOpt to commit 8dfee46faf1bcd64a20220cca230d4216808acd0\n",
            "  Preparing metadata (setup.py) ... \u001b[?25l\u001b[?25hdone\n"
          ]
        },
        {
          "output_type": "error",
          "ename": "ImportError",
          "evalue": "cannot import name 'distribution_strategy_context' from 'tensorflow.python.distribute' (/usr/local/lib/python3.11/dist-packages/tensorflow/python/distribute/__init__.py)",
          "traceback": [
            "\u001b[0;31m---------------------------------------------------------------------------\u001b[0m",
            "\u001b[0;31mImportError\u001b[0m                               Traceback (most recent call last)",
            "\u001b[0;32m<ipython-input-1-511bd50dc092>\u001b[0m in \u001b[0;36m<cell line: 0>\u001b[0;34m()\u001b[0m\n\u001b[1;32m      5\u001b[0m \u001b[0;32mtry\u001b[0m\u001b[0;34m:\u001b[0m\u001b[0;34m\u001b[0m\u001b[0;34m\u001b[0m\u001b[0m\n\u001b[0;32m----> 6\u001b[0;31m     \u001b[0;32mimport\u001b[0m \u001b[0mQGOpt\u001b[0m \u001b[0;32mas\u001b[0m \u001b[0mqgo\u001b[0m\u001b[0;34m\u001b[0m\u001b[0;34m\u001b[0m\u001b[0m\n\u001b[0m\u001b[1;32m      7\u001b[0m \u001b[0;32mexcept\u001b[0m \u001b[0mImportError\u001b[0m\u001b[0;34m:\u001b[0m\u001b[0;34m\u001b[0m\u001b[0;34m\u001b[0m\u001b[0m\n",
            "\u001b[0;32m/usr/local/lib/python3.11/dist-packages/QGOpt/__init__.py\u001b[0m in \u001b[0;36m<module>\u001b[0;34m\u001b[0m\n\u001b[1;32m      3\u001b[0m \u001b[0;32mfrom\u001b[0m \u001b[0mQGOpt\u001b[0m \u001b[0;32mimport\u001b[0m \u001b[0mmanifolds\u001b[0m\u001b[0;34m\u001b[0m\u001b[0;34m\u001b[0m\u001b[0m\n\u001b[0;32m----> 4\u001b[0;31m \u001b[0;32mfrom\u001b[0m \u001b[0mQGOpt\u001b[0m \u001b[0;32mimport\u001b[0m \u001b[0moptimizers\u001b[0m\u001b[0;34m\u001b[0m\u001b[0;34m\u001b[0m\u001b[0m\n\u001b[0m",
            "\u001b[0;32m/usr/local/lib/python3.11/dist-packages/QGOpt/optimizers/__init__.py\u001b[0m in \u001b[0;36m<module>\u001b[0;34m\u001b[0m\n\u001b[1;32m      2\u001b[0m \u001b[0;32mfrom\u001b[0m \u001b[0mQGOpt\u001b[0m\u001b[0;34m.\u001b[0m\u001b[0moptimizers\u001b[0m\u001b[0;34m.\u001b[0m\u001b[0mSGD\u001b[0m \u001b[0;32mimport\u001b[0m \u001b[0mRSGD\u001b[0m\u001b[0;34m\u001b[0m\u001b[0;34m\u001b[0m\u001b[0m\n\u001b[0;32m----> 3\u001b[0;31m \u001b[0;32mfrom\u001b[0m \u001b[0mQGOpt\u001b[0m\u001b[0;34m.\u001b[0m\u001b[0moptimizers\u001b[0m\u001b[0;34m.\u001b[0m\u001b[0mAdam\u001b[0m \u001b[0;32mimport\u001b[0m \u001b[0mRAdam\u001b[0m\u001b[0;34m\u001b[0m\u001b[0;34m\u001b[0m\u001b[0m\n\u001b[0m\u001b[1;32m      4\u001b[0m \u001b[0;32mfrom\u001b[0m \u001b[0mQGOpt\u001b[0m\u001b[0;34m.\u001b[0m\u001b[0moptimizers\u001b[0m\u001b[0;34m.\u001b[0m\u001b[0mLD\u001b[0m \u001b[0;32mimport\u001b[0m \u001b[0mLangevinDynamics\u001b[0m\u001b[0;34m\u001b[0m\u001b[0;34m\u001b[0m\u001b[0m\n",
            "\u001b[0;32m/usr/local/lib/python3.11/dist-packages/QGOpt/optimizers/Adam.py\u001b[0m in \u001b[0;36m<module>\u001b[0;34m\u001b[0m\n\u001b[1;32m      5\u001b[0m \u001b[0;32mfrom\u001b[0m \u001b[0mtensorflow\u001b[0m\u001b[0;34m.\u001b[0m\u001b[0mpython\u001b[0m\u001b[0;34m.\u001b[0m\u001b[0mkeras\u001b[0m \u001b[0;32mimport\u001b[0m \u001b[0minitializers\u001b[0m\u001b[0;34m\u001b[0m\u001b[0;34m\u001b[0m\u001b[0m\n\u001b[0;32m----> 6\u001b[0;31m \u001b[0;32mfrom\u001b[0m \u001b[0mtensorflow\u001b[0m\u001b[0;34m.\u001b[0m\u001b[0mpython\u001b[0m\u001b[0;34m.\u001b[0m\u001b[0mdistribute\u001b[0m \u001b[0;32mimport\u001b[0m \u001b[0mdistribution_strategy_context\u001b[0m \u001b[0;32mas\u001b[0m \u001b[0mdistribute_ctx\u001b[0m\u001b[0;34m\u001b[0m\u001b[0;34m\u001b[0m\u001b[0m\n\u001b[0m\u001b[1;32m      7\u001b[0m \u001b[0;32mfrom\u001b[0m \u001b[0mtensorflow\u001b[0m\u001b[0;34m.\u001b[0m\u001b[0mpython\u001b[0m\u001b[0;34m.\u001b[0m\u001b[0mops\u001b[0m \u001b[0;32mimport\u001b[0m \u001b[0mvariables\u001b[0m \u001b[0;32mas\u001b[0m \u001b[0mtf_variables\u001b[0m\u001b[0;34m\u001b[0m\u001b[0;34m\u001b[0m\u001b[0m\n",
            "\u001b[0;31mImportError\u001b[0m: cannot import name 'distribution_strategy_context' from 'tensorflow.python.distribute' (/usr/local/lib/python3.11/dist-packages/tensorflow/python/distribute/__init__.py)",
            "\nDuring handling of the above exception, another exception occurred:\n",
            "\u001b[0;31mImportError\u001b[0m                               Traceback (most recent call last)",
            "\u001b[0;32m<ipython-input-1-511bd50dc092>\u001b[0m in \u001b[0;36m<cell line: 0>\u001b[0;34m()\u001b[0m\n\u001b[1;32m      7\u001b[0m \u001b[0;32mexcept\u001b[0m \u001b[0mImportError\u001b[0m\u001b[0;34m:\u001b[0m\u001b[0;34m\u001b[0m\u001b[0;34m\u001b[0m\u001b[0m\n\u001b[1;32m      8\u001b[0m     \u001b[0mget_ipython\u001b[0m\u001b[0;34m(\u001b[0m\u001b[0;34m)\u001b[0m\u001b[0;34m.\u001b[0m\u001b[0msystem\u001b[0m\u001b[0;34m(\u001b[0m\u001b[0;34m'pip install git+https://github.com/LuchnikovI/QGOpt'\u001b[0m\u001b[0;34m)\u001b[0m\u001b[0;34m\u001b[0m\u001b[0;34m\u001b[0m\u001b[0m\n\u001b[0;32m----> 9\u001b[0;31m     \u001b[0;32mimport\u001b[0m \u001b[0mQGOpt\u001b[0m \u001b[0;32mas\u001b[0m \u001b[0mqgo\u001b[0m\u001b[0;34m\u001b[0m\u001b[0;34m\u001b[0m\u001b[0m\n\u001b[0m",
            "\u001b[0;32m/usr/local/lib/python3.11/dist-packages/QGOpt/__init__.py\u001b[0m in \u001b[0;36m<module>\u001b[0;34m\u001b[0m\n\u001b[1;32m      2\u001b[0m on manifolds which friquently appear in the quantum data processing\"\"\"\n\u001b[1;32m      3\u001b[0m \u001b[0;32mfrom\u001b[0m \u001b[0mQGOpt\u001b[0m \u001b[0;32mimport\u001b[0m \u001b[0mmanifolds\u001b[0m\u001b[0;34m\u001b[0m\u001b[0;34m\u001b[0m\u001b[0m\n\u001b[0;32m----> 4\u001b[0;31m \u001b[0;32mfrom\u001b[0m \u001b[0mQGOpt\u001b[0m \u001b[0;32mimport\u001b[0m \u001b[0moptimizers\u001b[0m\u001b[0;34m\u001b[0m\u001b[0;34m\u001b[0m\u001b[0m\n\u001b[0m",
            "\u001b[0;32m/usr/local/lib/python3.11/dist-packages/QGOpt/optimizers/__init__.py\u001b[0m in \u001b[0;36m<module>\u001b[0;34m\u001b[0m\n\u001b[1;32m      1\u001b[0m \u001b[0;34m\"\"\"Riemannian first-order optimizers\"\"\"\u001b[0m\u001b[0;34m\u001b[0m\u001b[0;34m\u001b[0m\u001b[0m\n\u001b[1;32m      2\u001b[0m \u001b[0;32mfrom\u001b[0m \u001b[0mQGOpt\u001b[0m\u001b[0;34m.\u001b[0m\u001b[0moptimizers\u001b[0m\u001b[0;34m.\u001b[0m\u001b[0mSGD\u001b[0m \u001b[0;32mimport\u001b[0m \u001b[0mRSGD\u001b[0m\u001b[0;34m\u001b[0m\u001b[0;34m\u001b[0m\u001b[0m\n\u001b[0;32m----> 3\u001b[0;31m \u001b[0;32mfrom\u001b[0m \u001b[0mQGOpt\u001b[0m\u001b[0;34m.\u001b[0m\u001b[0moptimizers\u001b[0m\u001b[0;34m.\u001b[0m\u001b[0mAdam\u001b[0m \u001b[0;32mimport\u001b[0m \u001b[0mRAdam\u001b[0m\u001b[0;34m\u001b[0m\u001b[0;34m\u001b[0m\u001b[0m\n\u001b[0m\u001b[1;32m      4\u001b[0m \u001b[0;32mfrom\u001b[0m \u001b[0mQGOpt\u001b[0m\u001b[0;34m.\u001b[0m\u001b[0moptimizers\u001b[0m\u001b[0;34m.\u001b[0m\u001b[0mLD\u001b[0m \u001b[0;32mimport\u001b[0m \u001b[0mLangevinDynamics\u001b[0m\u001b[0;34m\u001b[0m\u001b[0;34m\u001b[0m\u001b[0m\n",
            "\u001b[0;32m/usr/local/lib/python3.11/dist-packages/QGOpt/optimizers/Adam.py\u001b[0m in \u001b[0;36m<module>\u001b[0;34m\u001b[0m\n\u001b[1;32m      4\u001b[0m \u001b[0;34m\u001b[0m\u001b[0m\n\u001b[1;32m      5\u001b[0m \u001b[0;32mfrom\u001b[0m \u001b[0mtensorflow\u001b[0m\u001b[0;34m.\u001b[0m\u001b[0mpython\u001b[0m\u001b[0;34m.\u001b[0m\u001b[0mkeras\u001b[0m \u001b[0;32mimport\u001b[0m \u001b[0minitializers\u001b[0m\u001b[0;34m\u001b[0m\u001b[0;34m\u001b[0m\u001b[0m\n\u001b[0;32m----> 6\u001b[0;31m \u001b[0;32mfrom\u001b[0m \u001b[0mtensorflow\u001b[0m\u001b[0;34m.\u001b[0m\u001b[0mpython\u001b[0m\u001b[0;34m.\u001b[0m\u001b[0mdistribute\u001b[0m \u001b[0;32mimport\u001b[0m \u001b[0mdistribution_strategy_context\u001b[0m \u001b[0;32mas\u001b[0m \u001b[0mdistribute_ctx\u001b[0m\u001b[0;34m\u001b[0m\u001b[0;34m\u001b[0m\u001b[0m\n\u001b[0m\u001b[1;32m      7\u001b[0m \u001b[0;32mfrom\u001b[0m \u001b[0mtensorflow\u001b[0m\u001b[0;34m.\u001b[0m\u001b[0mpython\u001b[0m\u001b[0;34m.\u001b[0m\u001b[0mops\u001b[0m \u001b[0;32mimport\u001b[0m \u001b[0mvariables\u001b[0m \u001b[0;32mas\u001b[0m \u001b[0mtf_variables\u001b[0m\u001b[0;34m\u001b[0m\u001b[0;34m\u001b[0m\u001b[0m\n\u001b[1;32m      8\u001b[0m \u001b[0;32mfrom\u001b[0m \u001b[0mtensorflow\u001b[0m\u001b[0;34m.\u001b[0m\u001b[0mpython\u001b[0m\u001b[0;34m.\u001b[0m\u001b[0mkeras\u001b[0m \u001b[0;32mimport\u001b[0m \u001b[0mbackend\u001b[0m\u001b[0;34m\u001b[0m\u001b[0;34m\u001b[0m\u001b[0m\n",
            "\u001b[0;31mImportError\u001b[0m: cannot import name 'distribution_strategy_context' from 'tensorflow.python.distribute' (/usr/local/lib/python3.11/dist-packages/tensorflow/python/distribute/__init__.py)",
            "",
            "\u001b[0;31m---------------------------------------------------------------------------\u001b[0;32m\nNOTE: If your import is failing due to a missing package, you can\nmanually install dependencies using either !pip or !apt.\n\nTo view examples of installing some common dependencies, click the\n\"Open Examples\" button below.\n\u001b[0;31m---------------------------------------------------------------------------\u001b[0m\n"
          ],
          "errorDetails": {
            "actions": [
              {
                "action": "open_url",
                "actionText": "Open Examples",
                "url": "/notebooks/snippets/importing_libraries.ipynb"
              }
            ]
          }
        }
      ],
      "source": [
        "!pip install tensorflow=2.14\n",
        "import tensorflow as tf  # tf 2.14\n",
        "import matplotlib.pyplot as plt\n",
        "import math\n",
        "\n",
        "try:\n",
        "    import QGOpt as qgo\n",
        "except ImportError:\n",
        "    !pip install git+https://github.com/LuchnikovI/QGOpt\n",
        "    import QGOpt as qgo"
      ]
    },
    {
      "cell_type": "markdown",
      "metadata": {
        "id": "NZFR5WboSSua"
      },
      "source": [
        "Before considering the main part of the code that solves the problem of gate decomposition, we need to introduce a function that calculates the Kronecker product of two matrices:"
      ]
    },
    {
      "cell_type": "code",
      "execution_count": null,
      "metadata": {
        "id": "T-zfkssbSSub"
      },
      "outputs": [],
      "source": [
        "def kron(A, B):\n",
        "    \"\"\"\n",
        "    Returns Kronecker product of two square matrices.\n",
        "\n",
        "    Args:\n",
        "        A: complex valued tf tensor of shape (dim1, dim1)\n",
        "        B: complex valued tf tensor of shape (dim2, dim2)\n",
        "\n",
        "    Returns:\n",
        "        complex valued tf tensor of shape (dim1 * dim2, dim1 * dim2),\n",
        "        kronecker product of two matrices\n",
        "    \"\"\"\n",
        "\n",
        "    dim1 = A.shape[-1]\n",
        "    dim2 = B.shape[-1]\n",
        "    AB = tf.transpose(tf.tensordot(A, B, axes=0), (0, 2, 1, 3))\n",
        "    return tf.reshape(AB, (dim1 * dim2, dim1 * dim2))"
      ]
    },
    {
      "cell_type": "markdown",
      "metadata": {
        "id": "tMjt9WM3EbhH"
      },
      "source": [
        "Then we define an example of the complex Stiefel manifold:"
      ]
    },
    {
      "cell_type": "code",
      "execution_count": null,
      "metadata": {
        "id": "otUJhkTUEhIV"
      },
      "outputs": [],
      "source": [
        "m = qgo.manifolds.StiefelManifold()"
      ]
    },
    {
      "cell_type": "markdown",
      "metadata": {
        "id": "LYj-2WLZEtnp"
      },
      "source": [
        "As a target gate that we want to decompose, we use a randomly generated one:"
      ]
    },
    {
      "cell_type": "code",
      "execution_count": null,
      "metadata": {
        "id": "7ELNSWboE2eW"
      },
      "outputs": [],
      "source": [
        "U = m.random((4, 4), dtype=tf.complex128)"
      ]
    },
    {
      "cell_type": "markdown",
      "metadata": {
        "id": "Vb3sTOz3E-as"
      },
      "source": [
        "We initialize the initial set of local unitary gates $\\{u_{ij}\\}_{i,j=1}^{4, 2}$ randomly as a 4th rank tensor:"
      ]
    },
    {
      "cell_type": "code",
      "execution_count": null,
      "metadata": {
        "id": "k0ok9-sLFM_P"
      },
      "outputs": [],
      "source": [
        "u = m.random((4, 2, 2, 2), dtype=tf.complex128)"
      ]
    },
    {
      "cell_type": "markdown",
      "metadata": {
        "id": "QW8eXKIGFWKy"
      },
      "source": [
        "The first two indices of this tensor enumerate a particular one-qubit gate, the last two indices are matrix indices of a gate. We turn this tensor into its real representation in order to make it suitable for an optimizer and wrap it into the TF variable:"
      ]
    },
    {
      "cell_type": "code",
      "execution_count": null,
      "metadata": {
        "id": "1HPKzs54F7hs"
      },
      "outputs": [],
      "source": [
        "u = qgo.manifolds.complex_to_real(u)\n",
        "u = tf.Variable(u)"
      ]
    },
    {
      "cell_type": "markdown",
      "metadata": {
        "id": "Nb5T5fI2GD2V"
      },
      "source": [
        "We initialize the CNOT gate as follows:"
      ]
    },
    {
      "cell_type": "code",
      "execution_count": null,
      "metadata": {
        "id": "BEe0r-sfGITW"
      },
      "outputs": [],
      "source": [
        "cnot = tf.constant([[1, 0, 0, 0],\n",
        "                    [0, 1, 0, 0],\n",
        "                    [0, 0, 0, 1],\n",
        "                    [0, 0, 1, 0]], dtype=tf.complex128)"
      ]
    },
    {
      "cell_type": "markdown",
      "metadata": {
        "id": "_ndbnIpjGWm5"
      },
      "source": [
        "As a next step we initialize Riemannian Adam optimizer:"
      ]
    },
    {
      "cell_type": "code",
      "execution_count": null,
      "metadata": {
        "id": "pzoGrBHqGWF1"
      },
      "outputs": [],
      "source": [
        "lr = 0.2  # optimization step size\n",
        "# we also pass an example of manifold\n",
        "# to the optimizer in order to give information\n",
        "# about constraints to the optimizer\n",
        "opt = qgo.optimizers.RAdam(m, lr)"
      ]
    },
    {
      "cell_type": "markdown",
      "metadata": {
        "id": "r86eWE0LG4gL"
      },
      "source": [
        "Finally, we ran part of code that calculate forward pass, gradients, and optimization step several times until convergence is reached:"
      ]
    },
    {
      "cell_type": "code",
      "execution_count": null,
      "metadata": {
        "id": "IPgobUpSHOQA"
      },
      "outputs": [],
      "source": [
        "# this list will be filled by value of\n",
        "# error per iteration\n",
        "err_vs_iter = []\n",
        "\n",
        "# optimization loop\n",
        "for _ in range(500):\n",
        "    with tf.GradientTape() as tape:\n",
        "        # turning u back into its complex representation\n",
        "        uc = qgo.manifolds.real_to_complex(u)\n",
        "        # decomposition\n",
        "        D = kron(uc[0, 0], uc[0, 1])\n",
        "        D = cnot @ D\n",
        "        D = kron(uc[1, 0], uc[1, 1])@ D\n",
        "        D = cnot @ D\n",
        "        D = kron(uc[2, 0], uc[2, 1])@ D\n",
        "        D = cnot @ D\n",
        "        D = kron(uc[3, 0], uc[3, 1]) @ D\n",
        "        # loss function\n",
        "        L = tf.linalg.norm(D - U) ** 2\n",
        "        L = tf.math.real(L)\n",
        "    # filling list with history of error\n",
        "    err_vs_iter.append(tf.math.sqrt(L))\n",
        "    # gradient from tape\n",
        "    grad = tape.gradient(L, u)\n",
        "    # optimization step\n",
        "    opt.apply_gradients(zip([grad], [u]))"
      ]
    },
    {
      "cell_type": "markdown",
      "metadata": {
        "id": "enA5QarlJ8o5"
      },
      "source": [
        "Finally, we plot how error decreases with time"
      ]
    },
    {
      "cell_type": "code",
      "execution_count": null,
      "metadata": {
        "id": "nJFwaKcTIpyK"
      },
      "outputs": [],
      "source": [
        "print('[0, 0] element of the trained gate {}'.format(D[0, 0].numpy()))\n",
        "print('[0, 0] element of the true gate {}'.format(U[0, 0].numpy()))\n",
        "plt.plot(err_vs_iter)\n",
        "plt.yscale('log')\n",
        "plt.xlabel('iter')\n",
        "plt.ylabel('err')"
      ]
    }
  ],
  "metadata": {
    "colab": {
      "name": "quick_start.ipynb",
      "provenance": []
    },
    "kernelspec": {
      "display_name": "Python 3",
      "language": "python",
      "name": "python3"
    },
    "language_info": {
      "codemirror_mode": {
        "name": "ipython",
        "version": 3
      },
      "file_extension": ".py",
      "mimetype": "text/x-python",
      "name": "python",
      "nbconvert_exporter": "python",
      "pygments_lexer": "ipython3",
      "version": "3.7.2"
    }
  },
  "nbformat": 4,
  "nbformat_minor": 0
}